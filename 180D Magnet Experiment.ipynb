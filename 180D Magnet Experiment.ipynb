{
 "cells": [
  {
   "cell_type": "code",
   "execution_count": 101,
   "metadata": {},
   "outputs": [],
   "source": [
    "import pandas as pd\n",
    "import matplotlib.pyplot as plt\n",
    "import numpy as np\n",
    "import csv\n",
    "from scipy.stats import linregress"
   ]
  },
  {
   "cell_type": "code",
   "execution_count": 65,
   "metadata": {},
   "outputs": [],
   "source": [
    "df = pd.read_csv(\"NeoHotRealRun.txt\")\n",
    "\n",
    "data1 = [list(row) for row in df.values]\n",
    "\n",
    "#Declare variables:                      #The list that will hold the \"y1 entries\"\n",
    "x1=[]                      #The list that will hold the \"x1 entries\"\n",
    "\n",
    "rows1 = len(df.axes[0])    #The number of rows in \"sampledata\"\n",
    "cols1 = len(df.axes[1])    #The number of columns in \"sampledata\"\n",
    "\n",
    "\n",
    "#This while loop just builds the previously declared lists\n",
    "i = 0\n",
    "while i < rows1:\n",
    "    #print(data[i][0])\n",
    "    x1.append(data1[i])\n",
    "    i += 1"
   ]
  },
  {
   "cell_type": "code",
   "execution_count": 66,
   "metadata": {},
   "outputs": [],
   "source": [
    "Neohottemps = np.array(x1)"
   ]
  },
  {
   "cell_type": "code",
   "execution_count": 67,
   "metadata": {},
   "outputs": [
    {
     "name": "stdout",
     "output_type": "stream",
     "text": [
      "121598\n"
     ]
    },
    {
     "data": {
      "text/plain": [
       "(121598, 1)"
      ]
     },
     "execution_count": 67,
     "metadata": {},
     "output_type": "execute_result"
    }
   ],
   "source": [
    "print(len(Neohottemps))\n",
    "np.shape(Neohottemps)"
   ]
  },
  {
   "cell_type": "code",
   "execution_count": 68,
   "metadata": {},
   "outputs": [
    {
     "name": "stdout",
     "output_type": "stream",
     "text": [
      "900\n"
     ]
    }
   ],
   "source": [
    "Neohottempsre = []\n",
    "dx = 0\n",
    "dy = 0\n",
    "\n",
    "\n",
    "\n",
    "for i in range(len(Neohottemps)):\n",
    "    dx += Neohottemps[i]\n",
    "    dy += 1\n",
    "    if int(dy) == 135 :\n",
    "        Neohottempsre.append(dx/dy)\n",
    "        dx = 0\n",
    "        dy = 0\n",
    "    i += 1\n",
    "    \n",
    "print(len(Neohottempsre))\n",
    "        \n",
    "        \n",
    "    \n"
   ]
  },
  {
   "cell_type": "code",
   "execution_count": 7,
   "metadata": {},
   "outputs": [],
   "source": [
    "df = pd.read_csv(\"NeoColdReal.txt\")\n",
    " \n",
    "data1 = [list(row) for row in df.values]\n",
    "\n",
    "#Declare variables:                      #The list that will hold the \"y1 entries\"\n",
    "x2=[]                      #The list that will hold the \"x1 entries\"\n",
    "\n",
    "rows1 = len(df.axes[0])    #The number of rows in \"sampledata\"\n",
    "cols1 = len(df.axes[1])    #The number of columns in \"sampledata\"\n",
    "\n",
    "\n",
    "#This while loop just builds the previously declared lists\n",
    "i = 0\n",
    "while i < rows1:\n",
    "    #print(data[i][0])\n",
    "    x2.append(data1[i])\n",
    "    i += 1"
   ]
  },
  {
   "cell_type": "code",
   "execution_count": 29,
   "metadata": {},
   "outputs": [],
   "source": [
    "Neocoldtemps = (np.array(x2))\n",
    "#Neocoldtemps[100]\n",
    "#for i in range(len(Neocoldtemps)):\n",
    "#    Neocoldtempf = []\n",
    "#    Neocoldtempf.append(float(Neocoldtemps[i]))\n",
    "#print(type(Neocoldtemps))"
   ]
  },
  {
   "cell_type": "code",
   "execution_count": 9,
   "metadata": {},
   "outputs": [
    {
     "name": "stdout",
     "output_type": "stream",
     "text": [
      "901\n"
     ]
    }
   ],
   "source": [
    "Neocoldtempsre = []\n",
    "dx = 0\n",
    "dy = 0\n",
    "\n",
    "\n",
    "\n",
    "for i in range(len(Neocoldtemps)):\n",
    "    dx += Neocoldtemps[i]\n",
    "    dy += 1\n",
    "    if int(dy) == 158 :\n",
    "        Neocoldtempsre.append(dx/dy)\n",
    "        dx = 0\n",
    "        dy = 0\n",
    "    i += 1\n",
    "    \n",
    "print(len(Neocoldtempsre))"
   ]
  },
  {
   "cell_type": "code",
   "execution_count": 10,
   "metadata": {},
   "outputs": [],
   "source": [
    "df = pd.read_csv(\"CeramicHotReal.txt\")\n",
    "\n",
    "data1 = [list(row) for row in df.values]\n",
    "\n",
    "#Declare variables:                      #The list that will hold the \"y1 entries\"\n",
    "x3=[]                      #The list that will hold the \"x1 entries\"\n",
    "\n",
    "rows1 = len(df.axes[0])    #The number of rows in \"sampledata\"\n",
    "cols1 = len(df.axes[1])    #The number of columns in \"sampledata\"\n",
    "\n",
    "\n",
    "#This while loop just builds the previously declared lists\n",
    "i = 0\n",
    "while i < rows1:\n",
    "    #print(data[i][0])\n",
    "    x3.append(data1[i])\n",
    "    i += 1"
   ]
  },
  {
   "cell_type": "code",
   "execution_count": 11,
   "metadata": {},
   "outputs": [
    {
     "name": "stdout",
     "output_type": "stream",
     "text": [
      "121366\n"
     ]
    }
   ],
   "source": [
    "Ceramichottemps = np.array(x3)\n",
    "print(len(Ceramichottemps))"
   ]
  },
  {
   "cell_type": "code",
   "execution_count": 12,
   "metadata": {},
   "outputs": [
    {
     "data": {
      "text/plain": [
       "(121366, 1)"
      ]
     },
     "execution_count": 12,
     "metadata": {},
     "output_type": "execute_result"
    }
   ],
   "source": [
    "np.shape(Ceramichottemps)"
   ]
  },
  {
   "cell_type": "code",
   "execution_count": 13,
   "metadata": {},
   "outputs": [
    {
     "name": "stdout",
     "output_type": "stream",
     "text": [
      "899\n"
     ]
    }
   ],
   "source": [
    "Ceramichottempsre = []\n",
    "dx = 0\n",
    "dy = 0\n",
    "\n",
    "\n",
    "\n",
    "for i in range(len(Ceramichottemps)):\n",
    "    dx += Ceramichottemps[i]\n",
    "    dy += 1\n",
    "    if int(dy) == 135 :\n",
    "        Ceramichottempsre.append(dx/dy)\n",
    "        dx = 0\n",
    "        dy = 0\n",
    "    i += 1\n",
    "    \n",
    "print(len(Ceramichottempsre))"
   ]
  },
  {
   "cell_type": "code",
   "execution_count": 14,
   "metadata": {},
   "outputs": [],
   "source": [
    "df = pd.read_csv(\"CeramicCold.txt\")\n",
    "\n",
    "data1 = [list(row) for row in df.values]\n",
    "\n",
    "#Declare variables:                      #The list that will hold the \"y1 entries\"\n",
    "x4=[]                      #The list that will hold the \"x1 entries\"\n",
    "\n",
    "rows1 = len(df.axes[0])    #The number of rows in \"sampledata\"\n",
    "cols1 = len(df.axes[1])    #The number of columns in \"sampledata\"\n",
    "\n",
    "\n",
    "#This while loop just builds the previously declared lists\n",
    "i = 0\n",
    "while i < rows1:\n",
    "    #print(data[i][0])\n",
    "    x4.append(data1[i])\n",
    "    i += 1"
   ]
  },
  {
   "cell_type": "code",
   "execution_count": 15,
   "metadata": {},
   "outputs": [
    {
     "name": "stdout",
     "output_type": "stream",
     "text": [
      "141851\n"
     ]
    }
   ],
   "source": [
    "Ceramiccoldtemps = np.array(x4)\n",
    "print(len(Ceramiccoldtemps))"
   ]
  },
  {
   "cell_type": "code",
   "execution_count": 16,
   "metadata": {},
   "outputs": [
    {
     "name": "stdout",
     "output_type": "stream",
     "text": [
      "897\n"
     ]
    }
   ],
   "source": [
    "Ceramiccoldtempsre = []\n",
    "dx = 0\n",
    "dy = 0\n",
    "\n",
    "\n",
    "\n",
    "for i in range(len(Ceramiccoldtemps)):\n",
    "    dx += Ceramiccoldtemps[i]\n",
    "    dy += 1\n",
    "    if int(dy) == 158 :\n",
    "        Ceramiccoldtempsre.append(dx/dy)\n",
    "        dx = 0\n",
    "        dy = 0\n",
    "    i += 1\n",
    "    \n",
    "print(len(Ceramiccoldtempsre))"
   ]
  },
  {
   "cell_type": "markdown",
   "metadata": {},
   "source": [
    "# CSV DATA"
   ]
  },
  {
   "cell_type": "code",
   "execution_count": 17,
   "metadata": {},
   "outputs": [],
   "source": [
    "df = pd.read_csv(\"Neo Hot CSV.csv\")\n",
    "\n",
    "data1 = [list(row) for row in df.values]\n",
    "\n",
    "#Declare variables:                      #The list that will hold the \"y1 entries\"\n",
    "x5=[]\n",
    "x6 = []\n",
    "\n",
    "rows1 = len(df.axes[0])    #The number of rows in \"sampledata\"\n",
    "cols1 = len(df.axes[1])    #The number of columns in \"sampledata\"\n",
    "\n",
    "\n",
    "#This while loop just builds the previously declared lists\n",
    "i = 0\n",
    "while i < rows1:\n",
    "    #print(data[i][0])\n",
    "    x5.append(data1[i][0])\n",
    "    x6.append(data1[i][4])\n",
    "    i += 1"
   ]
  },
  {
   "cell_type": "code",
   "execution_count": 18,
   "metadata": {},
   "outputs": [],
   "source": [
    "Neohottimes = np.array(x5)\n",
    "Neohotmag = np.array(x6)"
   ]
  },
  {
   "cell_type": "code",
   "execution_count": 19,
   "metadata": {},
   "outputs": [
    {
     "name": "stdout",
     "output_type": "stream",
     "text": [
      "89720\n",
      "89720\n"
     ]
    }
   ],
   "source": [
    "print(len(Neohottimes))\n",
    "print(len(Neohotmag))"
   ]
  },
  {
   "cell_type": "code",
   "execution_count": 30,
   "metadata": {},
   "outputs": [
    {
     "name": "stdout",
     "output_type": "stream",
     "text": [
      "897\n"
     ]
    }
   ],
   "source": [
    "Neohottimesre = []\n",
    "dx = 0\n",
    "dy = 0\n",
    "\n",
    "\n",
    "\n",
    "for i in range(len(Neohottimes)):\n",
    "    dx += Neohottimes[i]\n",
    "    dy += 1\n",
    "    if int(dy) == 100 :\n",
    "        Neohottimesre.append(dx/dy)\n",
    "        dx = 0\n",
    "        dy = 0\n",
    "    i += 1\n",
    "    \n",
    "print(len(Neohottimesre))"
   ]
  },
  {
   "cell_type": "code",
   "execution_count": 31,
   "metadata": {},
   "outputs": [
    {
     "name": "stdout",
     "output_type": "stream",
     "text": [
      "897\n"
     ]
    }
   ],
   "source": [
    "Neohotmagre = []\n",
    "dx = 0\n",
    "dy = 0\n",
    "\n",
    "\n",
    "\n",
    "for i in range(len(Neohotmag)):\n",
    "    dx += Neohotmag[i]\n",
    "    dy += 1\n",
    "    if int(dy) == 100 :\n",
    "        Neohotmagre.append(dx/dy)\n",
    "        dx = 0\n",
    "        dy = 0\n",
    "    i += 1\n",
    "    \n",
    "print(len(Neohotmagre))"
   ]
  },
  {
   "cell_type": "code",
   "execution_count": 53,
   "metadata": {},
   "outputs": [],
   "source": [
    "Neohotmagre2 = np.array(Neohotmagre)*2\n",
    "#print(Neohotmagre2)"
   ]
  },
  {
   "cell_type": "code",
   "execution_count": 20,
   "metadata": {},
   "outputs": [],
   "source": [
    "df = pd.read_csv(\"Neo Cold CSV.csv\")\n",
    "\n",
    "data1 = [list(row) for row in df.values]\n",
    "\n",
    "#Declare variables:                      #The list that will hold the \"y1 entries\"\n",
    "x7=[]\n",
    "x8 = []\n",
    "\n",
    "rows1 = len(df.axes[0])    #The number of rows in \"sampledata\"\n",
    "cols1 = len(df.axes[1])    #The number of columns in \"sampledata\"\n",
    "\n",
    "\n",
    "#This while loop just builds the previously declared lists\n",
    "i = 0\n",
    "while i < rows1:\n",
    "    #print(data[i][0])\n",
    "    x7.append(data1[i][0])\n",
    "    x8.append(data1[i][4])\n",
    "    i += 1"
   ]
  },
  {
   "cell_type": "code",
   "execution_count": 21,
   "metadata": {},
   "outputs": [],
   "source": [
    "Neocoldtimes = np.array(x7)\n",
    "Neocoldmag = np.array(x8)"
   ]
  },
  {
   "cell_type": "code",
   "execution_count": 22,
   "metadata": {},
   "outputs": [
    {
     "name": "stdout",
     "output_type": "stream",
     "text": [
      "89719\n",
      "89719\n"
     ]
    }
   ],
   "source": [
    "print(len(Neocoldtimes))\n",
    "print(len(Neocoldmag))"
   ]
  },
  {
   "cell_type": "code",
   "execution_count": 32,
   "metadata": {},
   "outputs": [
    {
     "name": "stdout",
     "output_type": "stream",
     "text": [
      "897\n"
     ]
    }
   ],
   "source": [
    "Neocoldtimesre = []\n",
    "dx = 0\n",
    "dy = 0\n",
    "\n",
    "\n",
    "\n",
    "for i in range(len(Neocoldtimes)):\n",
    "    dx += Neocoldtimes[i]\n",
    "    dy += 1\n",
    "    if int(dy) == 100 :\n",
    "        Neocoldtimesre.append(dx/dy)\n",
    "        dx = 0\n",
    "        dy = 0\n",
    "    i += 1\n",
    "    \n",
    "print(len(Neocoldtimesre))"
   ]
  },
  {
   "cell_type": "code",
   "execution_count": 33,
   "metadata": {},
   "outputs": [
    {
     "name": "stdout",
     "output_type": "stream",
     "text": [
      "897\n"
     ]
    }
   ],
   "source": [
    "Neocoldmagre = []\n",
    "dx = 0\n",
    "dy = 0\n",
    "\n",
    "\n",
    "\n",
    "for i in range(len(Neocoldmag)):\n",
    "    dx += Neocoldmag[i]\n",
    "    dy += 1\n",
    "    if int(dy) == 100 :\n",
    "        Neocoldmagre.append(dx/dy)\n",
    "        dx = 0\n",
    "        dy = 0\n",
    "    i += 1\n",
    "    \n",
    "print(len(Neocoldmagre))"
   ]
  },
  {
   "cell_type": "code",
   "execution_count": 52,
   "metadata": {},
   "outputs": [],
   "source": [
    "Neocoldmagre2 = np.array(Neocoldmagre) * 2\n",
    "#print(Neocoldmagre2)"
   ]
  },
  {
   "cell_type": "markdown",
   "metadata": {},
   "source": [
    "# Ceramic data"
   ]
  },
  {
   "cell_type": "code",
   "execution_count": 23,
   "metadata": {},
   "outputs": [],
   "source": [
    "df = pd.read_csv(\"Ceramic Hot CSV.csv\")\n",
    "\n",
    "data1 = [list(row) for row in df.values]\n",
    "\n",
    "#Declare variables:                      #The list that will hold the \"y1 entries\"\n",
    "x9=[]\n",
    "x10 = []\n",
    "\n",
    "rows1 = len(df.axes[0])    #The number of rows in \"sampledata\"\n",
    "cols1 = len(df.axes[1])    #The number of columns in \"sampledata\"\n",
    "\n",
    "\n",
    "#This while loop just builds the previously declared lists\n",
    "i = 0\n",
    "while i < rows1:\n",
    "    #print(data[i][0])\n",
    "    x9.append(data1[i][0])\n",
    "    x10.append(data1[i][4])\n",
    "    i += 1"
   ]
  },
  {
   "cell_type": "code",
   "execution_count": 24,
   "metadata": {},
   "outputs": [],
   "source": [
    "Ceramichottimes = np.array(x9)\n",
    "Ceramichotmag = np.array(x10)"
   ]
  },
  {
   "cell_type": "code",
   "execution_count": 25,
   "metadata": {},
   "outputs": [
    {
     "name": "stdout",
     "output_type": "stream",
     "text": [
      "89720\n",
      "89720\n"
     ]
    }
   ],
   "source": [
    "print(len(Ceramichottimes))\n",
    "print(len(Ceramichotmag))"
   ]
  },
  {
   "cell_type": "code",
   "execution_count": 34,
   "metadata": {},
   "outputs": [
    {
     "name": "stdout",
     "output_type": "stream",
     "text": [
      "897\n"
     ]
    }
   ],
   "source": [
    "Ceramichottimesre = []\n",
    "dx = 0\n",
    "dy = 0\n",
    "\n",
    "\n",
    "\n",
    "for i in range(len(Ceramichottimes)):\n",
    "    dx += Ceramichottimes[i]\n",
    "    dy += 1\n",
    "    if int(dy) == 100 :\n",
    "        Ceramichottimesre.append(dx/dy)\n",
    "        dx = 0\n",
    "        dy = 0\n",
    "    i += 1\n",
    "    \n",
    "print(len(Ceramichottimesre))"
   ]
  },
  {
   "cell_type": "code",
   "execution_count": 35,
   "metadata": {},
   "outputs": [
    {
     "name": "stdout",
     "output_type": "stream",
     "text": [
      "897\n"
     ]
    }
   ],
   "source": [
    "Ceramichotmagre = []\n",
    "dx = 0\n",
    "dy = 0\n",
    "\n",
    "\n",
    "\n",
    "for i in range(len(Ceramichotmag)):\n",
    "    dx += Ceramichotmag[i]\n",
    "    dy += 1\n",
    "    if int(dy) == 100 :\n",
    "        Ceramichotmagre.append(dx/dy)\n",
    "        dx = 0\n",
    "        dy = 0\n",
    "    i += 1\n",
    "    \n",
    "print(len(Ceramichotmagre))"
   ]
  },
  {
   "cell_type": "code",
   "execution_count": 57,
   "metadata": {},
   "outputs": [],
   "source": [
    "#print(Ceramichotmagre)"
   ]
  },
  {
   "cell_type": "code",
   "execution_count": 58,
   "metadata": {},
   "outputs": [],
   "source": [
    "Ceramichotmagre2 = np.array(Ceramichotmagre) *2\n",
    "#print(Ceramichotmagre2)"
   ]
  },
  {
   "cell_type": "code",
   "execution_count": 26,
   "metadata": {},
   "outputs": [],
   "source": [
    "df = pd.read_csv(\"Ceramic Cold CSV.csv\")\n",
    "\n",
    "data1 = [list(row) for row in df.values]\n",
    "\n",
    "#Declare variables:                      #The list that will hold the \"y1 entries\"\n",
    "x11=[]\n",
    "x12 = []\n",
    "\n",
    "rows1 = len(df.axes[0])    #The number of rows in \"sampledata\"\n",
    "cols1 = len(df.axes[1])    #The number of columns in \"sampledata\"\n",
    "\n",
    "\n",
    "#This while loop just builds the previously declared lists\n",
    "i = 0\n",
    "while i < rows1:\n",
    "    #print(data[i][0])\n",
    "    x11.append(data1[i][0])\n",
    "    x12.append(data1[i][4])\n",
    "    i += 1"
   ]
  },
  {
   "cell_type": "code",
   "execution_count": 27,
   "metadata": {},
   "outputs": [],
   "source": [
    "Ceramiccoldtimes = np.array(x11)\n",
    "Ceramiccoldmag = np.array(x12)"
   ]
  },
  {
   "cell_type": "code",
   "execution_count": 28,
   "metadata": {},
   "outputs": [
    {
     "name": "stdout",
     "output_type": "stream",
     "text": [
      "89721\n",
      "89721\n"
     ]
    }
   ],
   "source": [
    "print(len(Ceramiccoldtimes))\n",
    "print(len(Ceramiccoldmag))"
   ]
  },
  {
   "cell_type": "code",
   "execution_count": 36,
   "metadata": {},
   "outputs": [
    {
     "name": "stdout",
     "output_type": "stream",
     "text": [
      "897\n"
     ]
    }
   ],
   "source": [
    "Ceramiccoldtimesre = []\n",
    "dx = 0\n",
    "dy = 0\n",
    "\n",
    "\n",
    "\n",
    "for i in range(len(Ceramiccoldtimes)):\n",
    "    dx += Ceramiccoldtimes[i]\n",
    "    dy += 1\n",
    "    if int(dy) == 100 :\n",
    "        Ceramiccoldtimesre.append(dx/dy)\n",
    "        dx = 0\n",
    "        dy = 0\n",
    "    i += 1\n",
    "    \n",
    "print(len(Ceramiccoldtimesre))"
   ]
  },
  {
   "cell_type": "code",
   "execution_count": 38,
   "metadata": {},
   "outputs": [
    {
     "name": "stdout",
     "output_type": "stream",
     "text": [
      "897\n"
     ]
    }
   ],
   "source": [
    "Ceramiccoldmagre = []\n",
    "dx = 0\n",
    "dy = 0\n",
    "\n",
    "\n",
    "\n",
    "for i in range(len(Ceramiccoldmag)):\n",
    "    dx += Ceramiccoldmag[i]\n",
    "    dy += 1\n",
    "    if int(dy) == 100 :\n",
    "        Ceramiccoldmagre.append(dx/dy)\n",
    "        dx = 0\n",
    "        dy = 0\n",
    "    i += 1\n",
    "    \n",
    "print(len(Ceramiccoldmagre))"
   ]
  },
  {
   "cell_type": "code",
   "execution_count": 59,
   "metadata": {},
   "outputs": [],
   "source": [
    "Ceramiccoldmagre2 = np.array(Ceramiccoldmagre) *2"
   ]
  },
  {
   "cell_type": "markdown",
   "metadata": {},
   "source": [
    "# Actual graphs and calculations"
   ]
  },
  {
   "cell_type": "code",
   "execution_count": 91,
   "metadata": {},
   "outputs": [
    {
     "name": "stdout",
     "output_type": "stream",
     "text": [
      "897\n"
     ]
    }
   ],
   "source": [
    "print(len(Neohottempsre))"
   ]
  },
  {
   "cell_type": "code",
   "execution_count": 76,
   "metadata": {},
   "outputs": [
    {
     "name": "stdout",
     "output_type": "stream",
     "text": [
      "897\n"
     ]
    }
   ],
   "source": [
    "#del Neocoldtempsre[-4:]\n",
    "print(len(Neocoldtempsre))"
   ]
  },
  {
   "cell_type": "code",
   "execution_count": 78,
   "metadata": {},
   "outputs": [
    {
     "name": "stdout",
     "output_type": "stream",
     "text": [
      "897\n"
     ]
    }
   ],
   "source": [
    "#del Ceramichottempsre[-2:]\n",
    "print(len(Ceramichottempsre))"
   ]
  },
  {
   "cell_type": "code",
   "execution_count": 79,
   "metadata": {},
   "outputs": [
    {
     "name": "stdout",
     "output_type": "stream",
     "text": [
      "897\n"
     ]
    }
   ],
   "source": [
    "print(len(Ceramiccoldtempsre))"
   ]
  },
  {
   "cell_type": "code",
   "execution_count": 83,
   "metadata": {},
   "outputs": [
    {
     "data": {
      "text/plain": [
       "Text(0.5, 1.0, 'Neodymium Magnet Hot Trial, Temp vs Time')"
      ]
     },
     "execution_count": 83,
     "metadata": {},
     "output_type": "execute_result"
    },
    {
     "data": {
      "image/png": "[encoded data removed]",
      "text/plain": [
       "<Figure size 432x288 with 1 Axes>"
      ]
     },
     "metadata": {
      "needs_background": "light"
     },
     "output_type": "display_data"
    }
   ],
   "source": [
    "plt.plot(Neohottimesre,Neohottempsre)\n",
    "plt.xlabel(\" Time (S) \")\n",
    "plt.ylabel(\" Tempurature (C) \")\n",
    "plt.title(\"Neodymium Magnet Hot Trial, Temp vs Time\")"
   ]
  },
  {
   "cell_type": "code",
   "execution_count": 86,
   "metadata": {},
   "outputs": [
    {
     "data": {
      "text/plain": [
       "Text(0.5, 1.0, 'Neodymium Magnet Hot Trial, Magnetic Field$^{2}$ vs Time')"
      ]
     },
     "execution_count": 86,
     "metadata": {},
     "output_type": "execute_result"
    },
    {
     "data": {
      "image/png": "[encoded data removed]",
      "text/plain": [
       "<Figure size 432x288 with 1 Axes>"
      ]
     },
     "metadata": {
      "needs_background": "light"
     },
     "output_type": "display_data"
    }
   ],
   "source": [
    "plt.plot(Neohottimesre,Neohotmagre2)\n",
    "plt.xlabel(\" Time (S) \")\n",
    "plt.ylabel(\" Magnetic Field (uT)\")\n",
    "plt.title(\"Neodymium Magnet Hot Trial, Magnetic Field$^{2}$ vs Time\")"
   ]
  },
  {
   "cell_type": "code",
   "execution_count": 135,
   "metadata": {},
   "outputs": [
    {
     "data": {
      "text/plain": [
       "array([-3.46555179e-01,  4.57615786e+02])"
      ]
     },
     "execution_count": 135,
     "metadata": {},
     "output_type": "execute_result"
    },
    {
     "data": {
      "image/png": "[encoded data removed]",
      "text/plain": [
       "<Figure size 432x288 with 1 Axes>"
      ]
     },
     "metadata": {
      "needs_background": "light"
     },
     "output_type": "display_data"
    }
   ],
   "source": [
    "plt.plot(Neohottempsre,Neohotmagre2)\n",
    "plt.xlabel(\" Tempurature (C) \")\n",
    "plt.ylabel(\" Magnetic Field (uT)\")\n",
    "plt.title(\"Neodymium Magnet Hot Trial, Magnetic Field$^{2}$ vs Tempurature\")\n",
    "np.polyfit(tester,Neohotmagre2,1)"
   ]
  },
  {
   "cell_type": "code",
   "execution_count": 124,
   "metadata": {},
   "outputs": [
    {
     "name": "stdout",
     "output_type": "stream",
     "text": [
      "(897, 1)\n",
      "(897,)\n"
     ]
    }
   ],
   "source": [
    "Test = np.array(Neohottempsre)\n",
    "print(np.shape(Test))\n",
    "tester = Test.flatten()\n",
    "print(np.shape(tester))"
   ]
  },
  {
   "cell_type": "markdown",
   "metadata": {},
   "source": [
    "# Cold Neo Trial"
   ]
  },
  {
   "cell_type": "code",
   "execution_count": 88,
   "metadata": {},
   "outputs": [
    {
     "data": {
      "text/plain": [
       "Text(0.5, 1.0, 'Neodymium Magnet Cold Trial, Temp vs Time')"
      ]
     },
     "execution_count": 88,
     "metadata": {},
     "output_type": "execute_result"
    },
    {
     "data": {
      "image/png": "[encoded data removed]",
      "text/plain": [
       "<Figure size 432x288 with 1 Axes>"
      ]
     },
     "metadata": {
      "needs_background": "light"
     },
     "output_type": "display_data"
    }
   ],
   "source": [
    "plt.plot(Neocoldtimesre,Neocoldtempsre)\n",
    "plt.xlabel(\" Time (S) \")\n",
    "plt.ylabel(\" Tempurature (C) \")\n",
    "plt.title(\"Neodymium Magnet Cold Trial, Temp vs Time\")"
   ]
  },
  {
   "cell_type": "code",
   "execution_count": 89,
   "metadata": {},
   "outputs": [
    {
     "data": {
      "text/plain": [
       "Text(0.5, 1.0, 'Neodymium Magnet Cold Trial, Magnetic Field$^{2}$ vs Time')"
      ]
     },
     "execution_count": 89,
     "metadata": {},
     "output_type": "execute_result"
    },
    {
     "data": {
      "image/png": "[encoded data removed]",
      "text/plain": [
       "<Figure size 432x288 with 1 Axes>"
      ]
     },
     "metadata": {
      "needs_background": "light"
     },
     "output_type": "display_data"
    }
   ],
   "source": [
    "plt.plot(Neocoldtimesre,Neocoldmagre2)\n",
    "plt.xlabel(\" Time (S) \")\n",
    "plt.ylabel(\" Magnetic Field (uT)\")\n",
    "plt.title(\"Neodymium Magnet Cold Trial, Magnetic Field$^{2}$ vs Time\")"
   ]
  },
  {
   "cell_type": "code",
   "execution_count": 128,
   "metadata": {},
   "outputs": [
    {
     "data": {
      "text/plain": [
       "array([ -1.17474865, 466.44617784])"
      ]
     },
     "execution_count": 128,
     "metadata": {},
     "output_type": "execute_result"
    },
    {
     "data": {
      "image/png": "[encoded data removed]",
      "text/plain": [
       "<Figure size 432x288 with 1 Axes>"
      ]
     },
     "metadata": {
      "needs_background": "light"
     },
     "output_type": "display_data"
    }
   ],
   "source": [
    "plt.plot(Neocoldtempsre,Neocoldmagre2)\n",
    "plt.xlabel(\" Tempurature (C) \")\n",
    "plt.ylabel(\" Magnetic Field (uT)\")\n",
    "plt.title(\"Neodymium Magnet Cold Trial, Magnetic Field$^{2}$ vs Tempurature\")\n",
    "np.polyfit(tester2,Neocoldmagre2,1)"
   ]
  },
  {
   "cell_type": "code",
   "execution_count": 126,
   "metadata": {},
   "outputs": [
    {
     "name": "stdout",
     "output_type": "stream",
     "text": [
      "(897, 1)\n",
      "(897,)\n"
     ]
    }
   ],
   "source": [
    "Test2 = np.array(Neocoldtempsre)\n",
    "print(np.shape(Test2))\n",
    "tester2 = Test2.flatten()\n",
    "print(np.shape(tester2))"
   ]
  },
  {
   "cell_type": "markdown",
   "metadata": {},
   "source": [
    "# Ceramic Ferrite magnet"
   ]
  },
  {
   "cell_type": "code",
   "execution_count": 94,
   "metadata": {},
   "outputs": [
    {
     "data": {
      "text/plain": [
       "Text(0.5, 1.0, 'Ceramic Ferrite Magnet Hot Trial, Temp vs Time')"
      ]
     },
     "execution_count": 94,
     "metadata": {},
     "output_type": "execute_result"
    },
    {
     "data": {
      "image/png": "[encoded data removed]",
      "text/plain": [
       "<Figure size 432x288 with 1 Axes>"
      ]
     },
     "metadata": {
      "needs_background": "light"
     },
     "output_type": "display_data"
    }
   ],
   "source": [
    "plt.plot(Ceramichottimesre,Ceramichottempsre)\n",
    "plt.xlabel(\" Time (S) \")\n",
    "plt.ylabel(\" Tempurature (C) \")\n",
    "plt.title(\"Ceramic Ferrite Magnet Hot Trial, Temp vs Time\")"
   ]
  },
  {
   "cell_type": "code",
   "execution_count": 95,
   "metadata": {},
   "outputs": [
    {
     "data": {
      "text/plain": [
       "Text(0.5, 1.0, 'Ceramic Ferrite Magnet Hot Trial, Magnetic Field$^{2}$ vs Time')"
      ]
     },
     "execution_count": 95,
     "metadata": {},
     "output_type": "execute_result"
    },
    {
     "data": {
      "image/png": "[encoded data removed]",
      "text/plain": [
       "<Figure size 432x288 with 1 Axes>"
      ]
     },
     "metadata": {
      "needs_background": "light"
     },
     "output_type": "display_data"
    }
   ],
   "source": [
    "plt.plot(Ceramichottimesre,Ceramichotmagre2)\n",
    "plt.xlabel(\" Time (S) \")\n",
    "plt.ylabel(\" Magnetic Field (uT)\")\n",
    "plt.title(\"Ceramic Ferrite Magnet Hot Trial, Magnetic Field$^{2}$ vs Time\")"
   ]
  },
  {
   "cell_type": "code",
   "execution_count": 132,
   "metadata": {},
   "outputs": [
    {
     "data": {
      "text/plain": [
       "array([  -3.18314008, 1716.78463496])"
      ]
     },
     "execution_count": 132,
     "metadata": {},
     "output_type": "execute_result"
    },
    {
     "data": {
      "image/png": "[encoded data removed]",
      "text/plain": [
       "<Figure size 432x288 with 1 Axes>"
      ]
     },
     "metadata": {
      "needs_background": "light"
     },
     "output_type": "display_data"
    }
   ],
   "source": [
    "plt.plot(Ceramichottempsre,Ceramichotmagre2)\n",
    "plt.xlabel(\" Tempurature (C) \")\n",
    "plt.ylabel(\" Magnetic Field (uT)\")\n",
    "plt.title(\"Ceramic Ferrite Magnet Hot Trial, Magnetic Field$^{2}$ vs Tempurature\")\n",
    "np.polyfit(tester3, Ceramichotmagre2, 1)"
   ]
  },
  {
   "cell_type": "code",
   "execution_count": 131,
   "metadata": {},
   "outputs": [
    {
     "name": "stdout",
     "output_type": "stream",
     "text": [
      "(897, 1)\n",
      "(897,)\n"
     ]
    }
   ],
   "source": [
    "Test3 = np.array(Ceramichottempsre)\n",
    "print(np.shape(Test3))\n",
    "tester3 = Test3.flatten()\n",
    "print(np.shape(tester3))"
   ]
  },
  {
   "cell_type": "markdown",
   "metadata": {},
   "source": [
    "# Ferrite Cold"
   ]
  },
  {
   "cell_type": "code",
   "execution_count": 97,
   "metadata": {},
   "outputs": [
    {
     "data": {
      "text/plain": [
       "Text(0.5, 1.0, 'Ceramic Ferrite Magnet Cold Trial, Temp vs Time')"
      ]
     },
     "execution_count": 97,
     "metadata": {},
     "output_type": "execute_result"
    },
    {
     "data": {
      "image/png": "[encoded data removed]",
      "text/plain": [
       "<Figure size 432x288 with 1 Axes>"
      ]
     },
     "metadata": {
      "needs_background": "light"
     },
     "output_type": "display_data"
    }
   ],
   "source": [
    "plt.plot(Ceramiccoldtimesre,Ceramiccoldtempsre)\n",
    "plt.xlabel(\" Time (S) \")\n",
    "plt.ylabel(\" Tempurature (C) \")\n",
    "plt.title(\"Ceramic Ferrite Magnet Cold Trial, Temp vs Time\")"
   ]
  },
  {
   "cell_type": "code",
   "execution_count": 98,
   "metadata": {},
   "outputs": [
    {
     "data": {
      "text/plain": [
       "Text(0.5, 1.0, 'Ceramic Ferrite Magnet Cold Trial, Magnetic Field$^{2}$ vs Time')"
      ]
     },
     "execution_count": 98,
     "metadata": {},
     "output_type": "execute_result"
    },
    {
     "data": {
      "image/png": "[encoded data removed]",
      "text/plain": [
       "<Figure size 432x288 with 1 Axes>"
      ]
     },
     "metadata": {
      "needs_background": "light"
     },
     "output_type": "display_data"
    }
   ],
   "source": [
    "plt.plot(Ceramiccoldtimesre,Ceramiccoldmagre2)\n",
    "plt.xlabel(\" Time (S) \")\n",
    "plt.ylabel(\" Magnetic Field (uT)\")\n",
    "plt.title(\"Ceramic Ferrite Magnet Cold Trial, Magnetic Field$^{2}$ vs Time\")"
   ]
  },
  {
   "cell_type": "code",
   "execution_count": 134,
   "metadata": {},
   "outputs": [
    {
     "data": {
      "text/plain": [
       "array([  -4.42768947, 1363.86663657])"
      ]
     },
     "execution_count": 134,
     "metadata": {},
     "output_type": "execute_result"
    },
    {
     "data": {
      "image/png": "[encoded data removed]",
      "text/plain": [
       "<Figure size 432x288 with 1 Axes>"
      ]
     },
     "metadata": {
      "needs_background": "light"
     },
     "output_type": "display_data"
    }
   ],
   "source": [
    "plt.plot(Ceramiccoldtempsre,Ceramiccoldmagre2)\n",
    "plt.xlabel(\" Tempurature (C) \")\n",
    "plt.ylabel(\" Magnetic Field (uT)\")\n",
    "plt.title(\"Ceramic Ferrite Magnet Cold Trial, Magnetic Field$^{2}$ vs Tempurature\")\n",
    "np.polyfit(tester4, Ceramiccoldmagre2, 1)"
   ]
  },
  {
   "cell_type": "code",
   "execution_count": 133,
   "metadata": {},
   "outputs": [
    {
     "name": "stdout",
     "output_type": "stream",
     "text": [
      "(897, 1)\n",
      "(897,)\n"
     ]
    }
   ],
   "source": [
    "Test4 = np.array(Ceramiccoldtempsre)\n",
    "print(np.shape(Test4))\n",
    "tester4 = Test4.flatten()\n",
    "print(np.shape(tester4))"
   ]
  },
  {
   "cell_type": "code",
   "execution_count": null,
   "metadata": {},
   "outputs": [],
   "source": []
  }
 ],
 "metadata": {
  "kernelspec": {
   "display_name": "Python 3 (ipykernel)",
   "language": "python",
   "name": "python3"
  },
  "language_info": {
   "codemirror_mode": {
    "name": "ipython",
    "version": 3
   },
   "file_extension": ".py",
   "mimetype": "text/x-python",
   "name": "python",
   "nbconvert_exporter": "python",
   "pygments_lexer": "ipython3",
   "version": "3.9.12"
  }
 },
 "nbformat": 4,
 "nbformat_minor": 4
}
